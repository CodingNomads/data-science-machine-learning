{
 "cells": [
  {
   "cell_type": "code",
   "execution_count": null,
   "metadata": {},
   "outputs": [],
   "source": [
    "import numpy as np\n",
    "import pandas as pd\n",
    "import matplotlib.pyplot as plt\n",
    "\n",
    "# I somehow hate matplotlibs dark mode (I run a darkmode notebook), so I set it default\n",
    "# dec 2022\n",
    "plt.style.use('default') "
   ]
  },
  {
   "cell_type": "code",
   "execution_count": null,
   "metadata": {},
   "outputs": [],
   "source": [
    "# This is the data from kaggle that we downloaded, and we put it in the same folder as this notebook\n",
    "# It's a csv file, so we can use pandas to read it with read_csv. \n",
    "df = pd.read_csv('NetflixOriginals.csv')"
   ]
  },
  {
   "cell_type": "code",
   "execution_count": null,
   "metadata": {},
   "outputs": [],
   "source": [
    "# Always good to have a sanity check, so we can see the first 5 rows of the data\n",
    "df.head()"
   ]
  },
  {
   "attachments": {},
   "cell_type": "markdown",
   "metadata": {},
   "source": [
    "## What are some questions we want to ask?\n",
    "\n",
    "One of the first things when doing EDA is to consider questions that you would like to know the answer to from the data.\n",
    "For example in this case, we might want to know:\n",
    "\n",
    "1. What are the most popular genres?\n",
    "2. What are the most popular movies?\n",
    "3. Is there any relationship between the number of movies and the year?\n",
    "4. Is there any variable that seems to correlate with the rating of a movie?\n",
    "\n",
    "\n",
    "You should write a big list of questions! whatever comes to mind just looking at the first 5 rows.\n",
    "Then you can start to think about how you might answer those questions.\n",
    "\n"
   ]
  },
  {
   "cell_type": "code",
   "execution_count": null,
   "metadata": {},
   "outputs": [],
   "source": [
    "# Let's try to understand the first question.\n",
    "# What are the most popular genres?\n",
    "# We can see that the genres are in a column called 'Genre'\n",
    "# We can use the value_counts() function to count the number of times each genre appears\n",
    "\n",
    "df['Genre'].value_counts()"
   ]
  },
  {
   "cell_type": "code",
   "execution_count": null,
   "metadata": {},
   "outputs": [],
   "source": [
    "# The above output isn't a bit too long to read.\n",
    "# But I'm noticing that some genres are repeated, but with different capitalization, this may be something I can clean later\n",
    "# For the time being, I want to see if I can find a list of all the genres that have more than 1 occurence\n",
    "\n",
    "# We can use a boolean mask to do this\n",
    "# A boolean mask is a list of True/False values that we can use to filter our data\n",
    "\n",
    "mask = df['Genre'].value_counts() > 1 # this will return a mask of True/False values\n",
    "df['Genre'].value_counts()[mask] # this will return the value counts of the genres that have more than 1 occurence\n",
    "\n",
    "# After this prints out you may decide you need to change the number of occurences."
   ]
  },
  {
   "cell_type": "code",
   "execution_count": null,
   "metadata": {},
   "outputs": [],
   "source": [
    "# Now that we have a list of genres that have more than 1 occurence, we can plot them\n",
    "# We can use the plot() function to plot the value counts of the genres that have more than 1 occurence\n",
    "# We can also use the kind parameter to specify the type of plot we want\n",
    "# We can use the figsize parameter to specify the size of the plot\n",
    "# We can use the title parameter to specify the title of the plot\n",
    "# We can use the xlabel parameter to specify the x axis label of the plot\n",
    "# We can use the ylabel parameter to specify the y axis label of the plot\n",
    "\n",
    "df['Genre'].value_counts()[mask].plot(kind='bar', figsize=(10, 5), title='Most Popular Genres', xlabel='Genre', ylabel='Number of Occurences')"
   ]
  },
  {
   "attachments": {},
   "cell_type": "markdown",
   "metadata": {},
   "source": [
    "But wait, this tells me which genre repeated the most, not which one had a high IMDB rating. Let's try to find the highest rated genre."
   ]
  },
  {
   "cell_type": "code",
   "execution_count": null,
   "metadata": {},
   "outputs": [],
   "source": [
    "# We need to group the data by genre and then find the mean of the IMDB Score\n",
    "# First we need to group the data by genre, this makes \"groups\" of data for each genre\n",
    "# Then we need to find the mean of the IMDB Score for each group\n",
    "# Then we need to sort the data by the mean of the IMDB Score\n",
    "# We want to sort the data in descending order, so we need to set the ascending parameter to False\n",
    "# Then we need to get the first 10 rows of the data\n",
    "df.groupby('Genre')['IMDB Score'].mean().sort_values(ascending=False).head(10)"
   ]
  },
  {
   "attachments": {},
   "cell_type": "markdown",
   "metadata": {},
   "source": [
    " Now you try finding the movie languages with the highest IMDB Score, you can use the same pattern as above."
   ]
  },
  {
   "cell_type": "code",
   "execution_count": null,
   "metadata": {},
   "outputs": [],
   "source": []
  },
  {
   "attachments": {},
   "cell_type": "markdown",
   "metadata": {},
   "source": [
    "# It's your turn now.\n",
    "\n",
    "Now we want you to go ahead and try to answer your own questions. A few big things are going to happen.\n",
    "\n",
    "1. You will get stuck\n",
    "2. You won't know what to do\n",
    "3. You will get frustrated\n",
    "\n",
    "This is all normal! This is how everyone learns to program and do data science. Just like chess has nearly infinite branching factors, learning to do data science has a similar branching factor. We cannot teach you every branch, you will encounter many things you have not been shown how to do. That's ok! Our hope is that you will learn how to learn, and that you will learn how to find the answers to your questions.\n",
    "\n",
    "More importantly, we are here for you on discord, waiting to answer your questions. Please ask us questions! We are here to help you learn.\n",
    "\n",
    "Some last tips of advice.\n",
    "\n",
    "1. You can start by just adjusting existing code patterns you have already seen.\n",
    "2. When you have a big question, try to break it into small tasks. For example if my question is \"3. Is there any relationship between the number of movies and the year?\" Then I will want to break that into smaller tasks. I might start with \"How do I get the number of movies per year?\" and then \"How do I plot the number of movies per year?\" and then \"How do I plot the number of movies per year in a way that I can see the relationship between the number of movies and the year?\" Keep breaking things into smaller tasks and doing them. Then put it all together.\n",
    "\n",
    "Good luck! We are here to help you!\n"
   ]
  },
  {
   "cell_type": "code",
   "execution_count": null,
   "metadata": {},
   "outputs": [],
   "source": []
  },
  {
   "cell_type": "code",
   "execution_count": null,
   "metadata": {},
   "outputs": [],
   "source": []
  }
 ],
 "metadata": {
  "kernelspec": {
   "display_name": "auto_eda",
   "language": "python",
   "name": "python3"
  },
  "language_info": {
   "codemirror_mode": {
    "name": "ipython",
    "version": 3
   },
   "file_extension": ".py",
   "mimetype": "text/x-python",
   "name": "python",
   "nbconvert_exporter": "python",
   "pygments_lexer": "ipython3",
   "version": "3.10.9"
  },
  "orig_nbformat": 4
 },
 "nbformat": 4,
 "nbformat_minor": 2
}
