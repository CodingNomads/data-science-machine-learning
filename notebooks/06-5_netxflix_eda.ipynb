{
 "cells": [
  {
   "cell_type": "code",
   "execution_count": 1,
   "metadata": {},
   "outputs": [],
   "source": [
    "import numpy as np\n",
    "import pandas as pd\n",
    "from ydata_profiling import ProfileReport\n",
    "import matplotlib.pyplot as plt\n",
    "\n",
    "# I somehow hate matplotlibs dark mode (I run a darkmode notebook), so I set it default\n",
    "# dec 2022\n",
    "plt.style.use('default') "
   ]
  },
  {
   "cell_type": "code",
   "execution_count": 2,
   "metadata": {},
   "outputs": [],
   "source": [
    "# This is the data from kaggle that we downloaded, and we put it in the same folder as this notebook\n",
    "# It's a csv file, so we can use pandas to read it with read_csv. \n",
    "df = pd.read_csv('NetflixOriginals.csv')"
   ]
  },
  {
   "cell_type": "code",
   "execution_count": 3,
   "metadata": {},
   "outputs": [
    {
     "data": {
      "text/html": [
       "<div>\n",
       "<style scoped>\n",
       "    .dataframe tbody tr th:only-of-type {\n",
       "        vertical-align: middle;\n",
       "    }\n",
       "\n",
       "    .dataframe tbody tr th {\n",
       "        vertical-align: top;\n",
       "    }\n",
       "\n",
       "    .dataframe thead th {\n",
       "        text-align: right;\n",
       "    }\n",
       "</style>\n",
       "<table border=\"1\" class=\"dataframe\">\n",
       "  <thead>\n",
       "    <tr style=\"text-align: right;\">\n",
       "      <th></th>\n",
       "      <th>Title</th>\n",
       "      <th>Genre</th>\n",
       "      <th>Premiere</th>\n",
       "      <th>Runtime</th>\n",
       "      <th>IMDB Score</th>\n",
       "      <th>Language</th>\n",
       "    </tr>\n",
       "  </thead>\n",
       "  <tbody>\n",
       "    <tr>\n",
       "      <th>0</th>\n",
       "      <td>Enter the Anime</td>\n",
       "      <td>Documentary</td>\n",
       "      <td>August 5, 2019</td>\n",
       "      <td>58</td>\n",
       "      <td>2.5</td>\n",
       "      <td>English/Japanese</td>\n",
       "    </tr>\n",
       "    <tr>\n",
       "      <th>1</th>\n",
       "      <td>Dark Forces</td>\n",
       "      <td>Thriller</td>\n",
       "      <td>August 21, 2020</td>\n",
       "      <td>81</td>\n",
       "      <td>2.6</td>\n",
       "      <td>Spanish</td>\n",
       "    </tr>\n",
       "    <tr>\n",
       "      <th>2</th>\n",
       "      <td>The App</td>\n",
       "      <td>Science fiction/Drama</td>\n",
       "      <td>December 26, 2019</td>\n",
       "      <td>79</td>\n",
       "      <td>2.6</td>\n",
       "      <td>Italian</td>\n",
       "    </tr>\n",
       "    <tr>\n",
       "      <th>3</th>\n",
       "      <td>The Open House</td>\n",
       "      <td>Horror thriller</td>\n",
       "      <td>January 19, 2018</td>\n",
       "      <td>94</td>\n",
       "      <td>3.2</td>\n",
       "      <td>English</td>\n",
       "    </tr>\n",
       "    <tr>\n",
       "      <th>4</th>\n",
       "      <td>Kaali Khuhi</td>\n",
       "      <td>Mystery</td>\n",
       "      <td>October 30, 2020</td>\n",
       "      <td>90</td>\n",
       "      <td>3.4</td>\n",
       "      <td>Hindi</td>\n",
       "    </tr>\n",
       "  </tbody>\n",
       "</table>\n",
       "</div>"
      ],
      "text/plain": [
       "             Title                  Genre           Premiere  Runtime  \\\n",
       "0  Enter the Anime            Documentary     August 5, 2019       58   \n",
       "1      Dark Forces               Thriller    August 21, 2020       81   \n",
       "2          The App  Science fiction/Drama  December 26, 2019       79   \n",
       "3   The Open House        Horror thriller   January 19, 2018       94   \n",
       "4      Kaali Khuhi                Mystery   October 30, 2020       90   \n",
       "\n",
       "   IMDB Score          Language  \n",
       "0         2.5  English/Japanese  \n",
       "1         2.6           Spanish  \n",
       "2         2.6           Italian  \n",
       "3         3.2           English  \n",
       "4         3.4             Hindi  "
      ]
     },
     "execution_count": 3,
     "metadata": {},
     "output_type": "execute_result"
    }
   ],
   "source": [
    "# Always good to have a sanity check, so we can see the first 5 rows of the data\n",
    "df.head()"
   ]
  },
  {
   "attachments": {},
   "cell_type": "markdown",
   "metadata": {},
   "source": [
    "## What are some questions we want to ask?\n",
    "\n",
    "One of the first things when doing EDA is to consider questions that you would like to know the answer to from the data.\n",
    "For example in this case, we might want to know:\n",
    "\n",
    "1. What are the most popular genres?\n",
    "2. What are the most popular movies?\n",
    "3. Is there any relationship between the number of movies and the year?\n",
    "4. Is there any variable that seems to correlate with the rating of a movie?\n",
    "\n",
    "\n",
    "You should write a big list of questions! whatever comes to mind just looking at the first 5 rows.\n",
    "Then you can start to think about how you might answer those questions.\n",
    "\n"
   ]
  },
  {
   "cell_type": "code",
   "execution_count": 6,
   "metadata": {},
   "outputs": [
    {
     "data": {
      "text/plain": [
       "Documentary                             159\n",
       "Drama                                    77\n",
       "Comedy                                   49\n",
       "Romantic comedy                          39\n",
       "Thriller                                 33\n",
       "                                       ... \n",
       "Romantic comedy-drama                     1\n",
       "Heist film/Thriller                       1\n",
       "Musical/Western/Fantasy                   1\n",
       "Horror anthology                          1\n",
       "Animation/Christmas/Comedy/Adventure      1\n",
       "Name: Genre, Length: 115, dtype: int64"
      ]
     },
     "execution_count": 6,
     "metadata": {},
     "output_type": "execute_result"
    }
   ],
   "source": [
    "# Let's try to understand the first question.\n",
    "# What are the most popular genres?\n",
    "# We can see that the genres are in a column called 'Genre'\n",
    "# We can use the value_counts() function to count the number of times each genre appears\n",
    "\n",
    "df['Genre'].value_counts()"
   ]
  },
  {
   "cell_type": "code",
   "execution_count": 9,
   "metadata": {},
   "outputs": [
    {
     "data": {
      "text/plain": [
       "Documentary                 159\n",
       "Drama                        77\n",
       "Comedy                       49\n",
       "Romantic comedy              39\n",
       "Thriller                     33\n",
       "Comedy-drama                 14\n",
       "Crime drama                  11\n",
       "Biopic                        9\n",
       "Horror                        9\n",
       "Action                        7\n",
       "Romance                       6\n",
       "Concert Film                  6\n",
       "Aftershow / Interview         6\n",
       "Animation                     5\n",
       "Action comedy                 5\n",
       "Romantic drama                5\n",
       "Psychological thriller        4\n",
       "Science fiction/Thriller      4\n",
       "Variety show                  4\n",
       "Science fiction               4\n",
       "Animation / Short             4\n",
       "Name: Genre, dtype: int64"
      ]
     },
     "execution_count": 9,
     "metadata": {},
     "output_type": "execute_result"
    }
   ],
   "source": [
    "# The above output isn't a bit too long to read.\n",
    "# But I'm noticing that some genres are repeated, but with different capitalization, this may be something I can clean later\n",
    "# For the time being, I want to see if I can find a list of all the genres that have more than 1 occurence\n",
    "\n",
    "# We can use a boolean mask to do this\n",
    "# A boolean mask is a list of True/False values that we can use to filter our data\n",
    "\n",
    "mask = df['Genre'].value_counts() > 1 # this will return a mask of True/False values\n",
    "df['Genre'].value_counts()[mask] # this will return the value counts of the genres that have more than 1 occurence\n",
    "\n",
    "# After this prints out you may decide you need to change the number of occurences."
   ]
  },
  {
   "cell_type": "code",
   "execution_count": 16,
   "metadata": {},
   "outputs": [
    {
     "data": {
      "text/plain": [
       "<AxesSubplot: title={'center': 'Most Popular Genres'}, xlabel='Genre', ylabel='Number of Occurences'>"
      ]
     },
     "execution_count": 16,
     "metadata": {},
     "output_type": "execute_result"
    },
    {
     "data": {
      "image/png": "[encoded data removed]",
      "text/plain": [
       "<Figure size 1000x500 with 1 Axes>"
      ]
     },
     "metadata": {},
     "output_type": "display_data"
    }
   ],
   "source": [
    "# Now that we have a list of genres that have more than 1 occurence, we can plot them\n",
    "# We can use the plot() function to plot the value counts of the genres that have more than 1 occurence\n",
    "# We can also use the kind parameter to specify the type of plot we want\n",
    "# We can use the figsize parameter to specify the size of the plot\n",
    "# We can use the title parameter to specify the title of the plot\n",
    "# We can use the xlabel parameter to specify the x axis label of the plot\n",
    "# We can use the ylabel parameter to specify the y axis label of the plot\n",
    "\n",
    "df['Genre'].value_counts()[mask].plot(kind='bar', figsize=(10, 5), title='Most Popular Genres', xlabel='Genre', ylabel='Number of Occurences')"
   ]
  },
  {
   "attachments": {},
   "cell_type": "markdown",
   "metadata": {},
   "source": [
    "But wait, this tells me which genre repeated the most, not which one had a high IMDB rating. Let's try to find the highest rated genre."
   ]
  },
  {
   "cell_type": "code",
   "execution_count": 31,
   "metadata": {},
   "outputs": [
    {
     "data": {
      "text/plain": [
       "Genre\n",
       "Animation/Christmas/Comedy/Adventure    8.200000\n",
       "Musical / Short                         7.700000\n",
       "Concert Film                            7.633333\n",
       "Anthology/Dark comedy                   7.600000\n",
       "Animation / Science Fiction             7.500000\n",
       "Making-of                               7.450000\n",
       "Action-adventure                        7.300000\n",
       "Historical drama                        7.200000\n",
       "Coming-of-age comedy-drama              7.200000\n",
       "Drama-Comedy                            7.200000\n",
       "Name: IMDB Score, dtype: float64"
      ]
     },
     "execution_count": 31,
     "metadata": {},
     "output_type": "execute_result"
    }
   ],
   "source": [
    "# We need to group the data by genre and then find the mean of the IMDB Score\n",
    "# First we need to group the data by genre, this makes \"groups\" of data for each genre\n",
    "# Then we need to find the mean of the IMDB Score for each group\n",
    "# Then we need to sort the data by the mean of the IMDB Score\n",
    "# We want to sort the data in descending order, so we need to set the ascending parameter to False\n",
    "# Then we need to get the first 10 rows of the data\n",
    "df.groupby('Genre')['IMDB Score'].mean().sort_values(ascending=False).head(10)"
   ]
  },
  {
   "attachments": {},
   "cell_type": "markdown",
   "metadata": {},
   "source": [
    " Now you try finding the movie languages with the highest IMDB Score, you can use the same pattern as above."
   ]
  },
  {
   "cell_type": "code",
   "execution_count": null,
   "metadata": {},
   "outputs": [],
   "source": []
  },
  {
   "attachments": {},
   "cell_type": "markdown",
   "metadata": {},
   "source": [
    "# It's your turn now.\n",
    "\n",
    "Now we want you to go ahead and try to answer your own questions. A few big things are going to happen.\n",
    "\n",
    "1. You will get stuck\n",
    "2. You won't know what to do\n",
    "3. You will get frustrated\n",
    "\n",
    "This is all normal! This is how everyone learns to program and do data science. Just like chess has nearly infinite branching factors, learning to do data science has a similar branching factor. We cannot teach you every branch, you will encounter many things you have not been shown how to do. That's ok! Our hope is that you will learn how to learn, and that you will learn how to find the answers to your questions.\n",
    "\n",
    "More importantly, we are here for you on discord, waiting to answer your questions. Please ask us questions! We are here to help you learn.\n",
    "\n",
    "Some last tips of advice.\n",
    "\n",
    "1. You can start by just adjusting existing code patterns you have already seen.\n",
    "2. When you have a big question, try to break it into small tasks. For example if my question is \"3. Is there any relationship between the number of movies and the year?\" Then I will want to break that into smaller tasks. I might start with \"How do I get the number of movies per year?\" and then \"How do I plot the number of movies per year?\" and then \"How do I plot the number of movies per year in a way that I can see the relationship between the number of movies and the year?\" Keep breaking things into smaller tasks and doing them. Then put it all together.\n",
    "\n",
    "Good luck! We are here to help you!\n"
   ]
  },
  {
   "cell_type": "code",
   "execution_count": null,
   "metadata": {},
   "outputs": [],
   "source": []
  },
  {
   "cell_type": "code",
   "execution_count": null,
   "metadata": {},
   "outputs": [],
   "source": []
  }
 ],
 "metadata": {
  "kernelspec": {
   "display_name": "auto_eda",
   "language": "python",
   "name": "python3"
  },
  "language_info": {
   "codemirror_mode": {
    "name": "ipython",
    "version": 3
   },
   "file_extension": ".py",
   "mimetype": "text/x-python",
   "name": "python",
   "nbconvert_exporter": "python",
   "pygments_lexer": "ipython3",
   "version": "3.10.9"
  },
  "orig_nbformat": 4
 },
 "nbformat": 4,
 "nbformat_minor": 2
}
